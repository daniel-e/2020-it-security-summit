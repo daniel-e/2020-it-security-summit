{
 "cells": [
  {
   "cell_type": "code",
   "execution_count": null,
   "metadata": {},
   "outputs": [],
   "source": [
    "import torch\n",
    "import torchvision.datasets as datasets\n",
    "import torch.nn as nn\n",
    "import torch.optim as optim\n",
    "import torchvision.transforms as transforms\n",
    "from torch.utils.data import DataLoader, Subset\n",
    "import matplotlib.pyplot as plt\n",
    "from tqdm.notebook import tqdm"
   ]
  },
  {
   "cell_type": "code",
   "execution_count": null,
   "metadata": {},
   "outputs": [],
   "source": [
    "torch.manual_seed(0)\n",
    "\n",
    "t = transforms.ToTensor()\n",
    "\n",
    "training_data = Subset(\n",
    "    datasets.MNIST(root=\".tmp/torch-data/\", train=True, download=True, transform=t),\n",
    "    range(20000)\n",
    ")\n",
    "\n",
    "dl_train = DataLoader(training_data, batch_size=500, shuffle=True)"
   ]
  },
  {
   "cell_type": "code",
   "execution_count": null,
   "metadata": {},
   "outputs": [],
   "source": [
    "class autoencoder(nn.Module):\n",
    "    def __init__(self):\n",
    "        super(autoencoder, self).__init__()\n",
    "        self.encoder = nn.Sequential(\n",
    "            nn.Linear(784, 128),\n",
    "            nn.ReLU(),\n",
    "            nn.Linear(128, 64),\n",
    "            nn.ReLU(),\n",
    "            nn.Linear(64, 24),\n",
    "            nn.ReLU(),\n",
    "            nn.Linear(24, 3)\n",
    "        )\n",
    "        self.decoder = nn.Sequential(\n",
    "            nn.Linear(3, 24),\n",
    "            nn.ReLU(),\n",
    "            nn.Linear(24, 64),\n",
    "            nn.ReLU(),\n",
    "            nn.Linear(64, 128),\n",
    "            nn.ReLU(),\n",
    "            nn.Linear(128, 784),\n",
    "            nn.Sigmoid()\n",
    "        )\n",
    "        \n",
    "    def forward(self, x):\n",
    "        x = self.encoder(x)\n",
    "        x = self.decoder(x)\n",
    "        return x"
   ]
  },
  {
   "cell_type": "code",
   "execution_count": null,
   "metadata": {},
   "outputs": [],
   "source": [
    "model = autoencoder()\n",
    "\n",
    "opt = optim.Adam(model.parameters(), lr=0.01)\n",
    "\n",
    "criterion = nn.MSELoss()\n",
    "\n",
    "l_train = []\n",
    "\n",
    "for epoch in tqdm(range(30)):\n",
    "    train_loss = 0\n",
    "    \n",
    "    for batch, _ in dl_train:\n",
    "        output = model(batch.view(-1, 784))\n",
    "        opt.zero_grad()\n",
    "        loss = criterion(output, batch.view(-1, 784))\n",
    "        loss.backward()\n",
    "        opt.step()\n",
    "        train_loss += loss.item()\n",
    "        \n",
    "    train_loss /= len(dl_train)\n",
    "    l_train.append(train_loss)\n",
    "    \n",
    "    print(epoch, train_loss)"
   ]
  },
  {
   "cell_type": "code",
   "execution_count": null,
   "metadata": {},
   "outputs": [],
   "source": [
    "plt.plot(l_train)\n",
    "plt.grid()\n",
    "plt.show()"
   ]
  },
  {
   "cell_type": "code",
   "execution_count": null,
   "metadata": {},
   "outputs": [],
   "source": [
    "# Show encoding of 10 images.\n",
    "dl = DataLoader(training_data, batch_size=1, shuffle=True)\n",
    "\n",
    "with torch.no_grad():\n",
    "    for idx, data in zip(range(10), dl):\n",
    "        batch, label = data\n",
    "        output = model.encoder(batch.view(-1, 784))\n",
    "        print(output, label)"
   ]
  },
  {
   "cell_type": "code",
   "execution_count": null,
   "metadata": {},
   "outputs": [],
   "source": [
    "# Create random representation and show the reconstruction.\n",
    "\n",
    "with torch.no_grad():\n",
    "    t = (torch.rand(3) - 0.5) * 5  # random values in [-2.5, 2.5]\n",
    "    #t[0] -= 0.5\n",
    "    print(t)\n",
    "    output = model.decoder(t)\n",
    "    img = output.view(28, 28)\n",
    "    plt.imshow(img, cmap=\"gray\")\n",
    "    plt.show()"
   ]
  },
  {
   "cell_type": "code",
   "execution_count": null,
   "metadata": {},
   "outputs": [],
   "source": [
    "# Just get an image and show it.\n",
    "\n",
    "with torch.no_grad():\n",
    "    i = iter(dl)\n",
    "    img, _ = i.next()\n",
    "    print(img.shape)\n",
    "    img = img.view(28, 28)\n",
    "    plt.imshow(img, cmap=\"gray\")\n",
    "    plt.show()"
   ]
  },
  {
   "cell_type": "code",
   "execution_count": null,
   "metadata": {},
   "outputs": [],
   "source": [
    "# Add some noise to the image.\n",
    "\n",
    "noise = img + torch.randn_like(img) * 0.1\n",
    "plt.imshow(noise, cmap=\"gray\")\n",
    "plt.show()"
   ]
  },
  {
   "cell_type": "code",
   "execution_count": null,
   "metadata": {},
   "outputs": [],
   "source": [
    "# Compute reconstruction of noisy input.\n",
    "\n",
    "with torch.no_grad():  \n",
    "    output = model(noise.view(-1, 784))\n",
    "    plt.imshow(output.view(28, 28), cmap=\"gray\")\n",
    "    plt.show()"
   ]
  },
  {
   "cell_type": "code",
   "execution_count": null,
   "metadata": {},
   "outputs": [],
   "source": [
    "# Use encoder as dimensionality reduction.\n",
    "\n",
    "dl = DataLoader(training_data, batch_size=5000, shuffle=True)\n",
    "\n",
    "with torch.no_grad():\n",
    "    i = iter(dl)\n",
    "    batch, labels = i.next()\n",
    "    output = model.encoder(batch.view(-1, 784))"
   ]
  },
  {
   "cell_type": "code",
   "execution_count": null,
   "metadata": {},
   "outputs": [],
   "source": [
    "%matplotlib notebook\n",
    "\n",
    "from mpl_toolkits import mplot3d\n",
    "\n",
    "fig = plt.figure(figsize=(7,7))\n",
    "ax = plt.axes(projection='3d')\n",
    "\n",
    "for i in range(10):\n",
    "    selected = output[labels == i,:]\n",
    "    ax.scatter3D(selected[:,0], selected[:,1], selected[:,2])\n",
    "\n",
    "plt.show()"
   ]
  },
  {
   "cell_type": "code",
   "execution_count": null,
   "metadata": {},
   "outputs": [],
   "source": []
  }
 ],
 "metadata": {
  "kernelspec": {
   "display_name": "Python 3",
   "language": "python",
   "name": "python3"
  },
  "language_info": {
   "codemirror_mode": {
    "name": "ipython",
    "version": 3
   },
   "file_extension": ".py",
   "mimetype": "text/x-python",
   "name": "python",
   "nbconvert_exporter": "python",
   "pygments_lexer": "ipython3",
   "version": "3.6.9"
  }
 },
 "nbformat": 4,
 "nbformat_minor": 2
}
