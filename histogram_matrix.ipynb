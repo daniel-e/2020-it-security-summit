{
 "cells": [
  {
   "cell_type": "code",
   "execution_count": null,
   "metadata": {},
   "outputs": [],
   "source": [
    "import math\n",
    "import matplotlib.pyplot as plt\n",
    "import random\n",
    "import numpy as np"
   ]
  },
  {
   "cell_type": "markdown",
   "metadata": {},
   "source": [
    "We generate synthetic data to simulate requests to a web application."
   ]
  },
  {
   "cell_type": "code",
   "execution_count": null,
   "metadata": {},
   "outputs": [],
   "source": [
    "# Specify how much traffic our webserver gets for each weekday. Mon, Tue, ... Sun\n",
    "factors = [0.9, 0.8, 0.85, 0.79, 0.85, 0.6, 0.5]\n",
    "\n",
    "# In the simulation each day has just 12 hours to make the visualizations more clear.\n",
    "hours = 12\n",
    "\n",
    "# Specify how much traffic our webserver gets for each hour.\n",
    "hour_factors = [0.2 + math.sin(i / (hours - 1) * 3.14) for i in range(hours)]\n",
    "\n",
    "# Number of requests without weekday and hour variations.\n",
    "req = 1000\n",
    "\n",
    "# Create the data.\n",
    "data = []\n",
    "for weekday_factor in factors:\n",
    "    for hour_factor in hour_factors:\n",
    "        data.append(int((random.random() * 0.1 + 0.9) * req * hour_factor * weekday_factor))\n",
    "\n",
    "# data[i] = number of requests for hour i (i=0..11 -> first day, i=12..23 -> second day, ...)"
   ]
  },
  {
   "cell_type": "code",
   "execution_count": null,
   "metadata": {},
   "outputs": [],
   "source": [
    "plt.rcParams['figure.figsize'] = [15, 7]\n",
    "plt.rcParams.update({'font.size': 22})\n",
    "plt.grid()\n",
    "plt.bar(range(len(data)), data)\n",
    "plt.show()"
   ]
  },
  {
   "cell_type": "markdown",
   "metadata": {},
   "source": [
    "In our simulation we want to have 10 different types of log messages that are written into the log file. Now, we \n",
    "create this data. We create a matrix where row $i$ and column $j$ contains the number of requests for log type $i4 and hour $j$."
   ]
  },
  {
   "cell_type": "code",
   "execution_count": null,
   "metadata": {},
   "outputs": [],
   "source": [
    "# For each log type we specify how often it occurs.\n",
    "LOG_TYPE_DISTRIBUTION = [0.1, 0.05, 0.1, 0.18, 0.05, 0.3, 0.02, 0.02, 0.08, 0.1]\n",
    "\n",
    "def create_requests_for_log_type(requests_per_hour, log_type):\n",
    "    return [requests * log_type * (random.random() * 0.3 + 0.7) for requests in requests_per_hour]\n",
    "    \n",
    "request_matrix = np.array([create_requests_for_log_type(data, log_type) for log_type in LOG_TYPE_DISTRIBUTION])"
   ]
  },
  {
   "cell_type": "markdown",
   "metadata": {},
   "source": [
    "Plot the data. Use a stacked bar chart so that we can see the distribution of log types for each hours."
   ]
  },
  {
   "cell_type": "code",
   "execution_count": null,
   "metadata": {},
   "outputs": [],
   "source": [
    "plt.rcParams['figure.figsize'] = [18, 7]\n",
    "\n",
    "x = np.arange(len(data))\n",
    "acc = np.zeros(len(x))\n",
    "for row in request_matrix:\n",
    "    plt.bar(x, row, bottom=acc)\n",
    "    acc += row\n",
    "plt.grid()\n",
    "plt.show()"
   ]
  },
  {
   "cell_type": "markdown",
   "metadata": {},
   "source": [
    "As it's difficult to see variations in the distribution of the log types (i.e. anomalies are difficult to spot) we use a histogram matrix described in the paper [here](https://ieeexplore.ieee.org/document/4529398)."
   ]
  },
  {
   "cell_type": "code",
   "execution_count": null,
   "metadata": {},
   "outputs": [],
   "source": [
    "def plot_data(data):\n",
    "    plt.rcParams['figure.figsize'] = [18, 18]\n",
    "    plt.rcParams.update({'font.size': 22})\n",
    "    _, axes = plt.subplots()\n",
    "    \n",
    "    for logtype, row in enumerate(data):\n",
    "        for hour, val in enumerate(row):\n",
    "            c = plt.Circle((hour + 1, logtype + 1), val / np.max(data) * 0.5)\n",
    "            axes.add_artist(c)\n",
    "\n",
    "    axes.set_aspect(1)\n",
    "    axes.set_ylabel(\"log type\")\n",
    "    axes.set_xlabel(\"hour\")\n",
    "    plt.xlim([0, data.shape[1] + 1])\n",
    "    plt.ylim([0, data.shape[0] + 1])\n",
    "    plt.grid()\n",
    "    plt.show()\n",
    "\n",
    "# We visualize the distribution of log types for each hour of one day.\n",
    "first_day = request_matrix[:,0:hours]\n",
    "\n",
    "# Compute the relative occurrence of log types within each hours slot.\n",
    "first_day /= np.sum(first_day, axis=0)\n",
    "\n",
    "plot_data(first_day)"
   ]
  },
  {
   "cell_type": "markdown",
   "metadata": {},
   "source": [
    "Compute the average of all weekdays."
   ]
  },
  {
   "cell_type": "code",
   "execution_count": null,
   "metadata": {},
   "outputs": [],
   "source": [
    "avg = np.zeros((10, 12))\n",
    "for i in range(7):\n",
    "    current_day = request_matrix[:, i*12:i*12+12]\n",
    "    avg += current_day / np.sum(current_day, axis=0)\n",
    "avg /= 7"
   ]
  },
  {
   "cell_type": "markdown",
   "metadata": {},
   "source": [
    "Now, we visualize the difference between the first day and the average of all days."
   ]
  },
  {
   "cell_type": "code",
   "execution_count": null,
   "metadata": {},
   "outputs": [],
   "source": [
    "difference = np.abs(avg - first_day)"
   ]
  },
  {
   "cell_type": "markdown",
   "metadata": {},
   "source": [
    "Now, we plot histogram matrix. The circles are green if the deviation from the average is small. If the deviation is large, the circles will be red."
   ]
  },
  {
   "cell_type": "code",
   "execution_count": null,
   "metadata": {},
   "outputs": [],
   "source": [
    "def plot_diff(data, difference):\n",
    "    def get_color(val):\n",
    "        # 0 = green 1 = red\n",
    "        val = 1 - math.exp(-7 * val)\n",
    "        if val <= 0.5:\n",
    "            return (val * 2, 1, 0)\n",
    "        else:\n",
    "            return (1, 1 - (val - 0.5) * 2, 0)\n",
    "\n",
    "    plt.rcParams['figure.figsize'] = [18, 18]\n",
    "    plt.rcParams.update({'font.size': 22})\n",
    "    _, axes = plt.subplots()\n",
    "    \n",
    "    for logtype, row in enumerate(data):\n",
    "        for hour, val in enumerate(row):\n",
    "            color = get_color(difference[logtype, hour])\n",
    "            c = plt.Circle((hour + 1, logtype + 1), val / np.max(data) * 0.5, color=color)\n",
    "            axes.add_artist(c)\n",
    "\n",
    "    axes.set_aspect(1)\n",
    "    axes.set_ylabel(\"log type\")\n",
    "    axes.set_xlabel(\"hour\")\n",
    "    plt.xlim([0, data.shape[1] + 1])\n",
    "    plt.ylim([0, data.shape[0] + 1])\n",
    "    plt.grid()\n",
    "    plt.show()\n",
    "\n",
    "plot_diff(first_day, difference)"
   ]
  },
  {
   "cell_type": "markdown",
   "metadata": {},
   "source": [
    "As we can see, there is no deviation. Let's manipulate one value and see what happens."
   ]
  },
  {
   "cell_type": "code",
   "execution_count": null,
   "metadata": {},
   "outputs": [],
   "source": [
    "# Divide the relative number of requests for logtype 5 in hour 0 by 2.\n",
    "first_day_modified = np.copy(first_day)\n",
    "first_day_modified[5, 0] /= 2\n",
    "\n",
    "# Compute the difference to the average.\n",
    "difference = np.abs(avg - first_day_modified)\n",
    "\n",
    "# As the difference to the average is significant, the circle should not be green anymore.\n",
    "plot_diff(first_day_modified, difference)"
   ]
  },
  {
   "cell_type": "code",
   "execution_count": null,
   "metadata": {},
   "outputs": [],
   "source": []
  }
 ],
 "metadata": {
  "kernelspec": {
   "display_name": "Python 3",
   "language": "python",
   "name": "python3"
  },
  "language_info": {
   "codemirror_mode": {
    "name": "ipython",
    "version": 3
   },
   "file_extension": ".py",
   "mimetype": "text/x-python",
   "name": "python",
   "nbconvert_exporter": "python",
   "pygments_lexer": "ipython3",
   "version": "3.6.9"
  }
 },
 "nbformat": 4,
 "nbformat_minor": 4
}
