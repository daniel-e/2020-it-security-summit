{
 "cells": [
  {
   "cell_type": "code",
   "execution_count": null,
   "metadata": {},
   "outputs": [],
   "source": [
    "import numpy as np\n",
    "import matplotlib.pyplot as plt"
   ]
  },
  {
   "cell_type": "code",
   "execution_count": null,
   "metadata": {},
   "outputs": [],
   "source": [
    "np.random.seed(1)\n",
    "a = np.random.randn(100, 2) * 0.7\n",
    "b = np.concatenate([np.random.randn(100, 1) * 0.7 + 5, np.random.randn(100, 1) * 0.7 + 3], axis=1)\n",
    "c = np.concatenate([np.random.randn(100, 1) * 0.7 + 5, np.random.randn(100, 1) * 0.7 - 3], axis=1)\n",
    "d = np.concatenate([np.random.rand(20, 1) * 10 - 2, np.random.rand(20, 1) * 10 - 4], axis=1)"
   ]
  },
  {
   "cell_type": "code",
   "execution_count": null,
   "metadata": {},
   "outputs": [],
   "source": [
    "plt.scatter(a[:,0], a[:,1])\n",
    "plt.scatter(b[:,0], b[:,1])\n",
    "plt.scatter(c[:,0], c[:,1])\n",
    "plt.scatter(d[:,0], d[:,1])\n",
    "plt.show()"
   ]
  },
  {
   "cell_type": "code",
   "execution_count": null,
   "metadata": {},
   "outputs": [],
   "source": [
    "from sklearn.cluster import KMeans\n",
    "\n",
    "x = np.concatenate([a, b, c, d])\n",
    "\n",
    "kmeans = KMeans(n_clusters=3, random_state=0).fit(x)\n",
    "\n",
    "for i in set(kmeans.labels_):\n",
    "    p = x[kmeans.labels_ == i,:]\n",
    "    plt.scatter(p[:,0], p[:,1])\n",
    "plt.show()"
   ]
  },
  {
   "cell_type": "code",
   "execution_count": null,
   "metadata": {},
   "outputs": [],
   "source": [
    "from sklearn.cluster import DBSCAN\n",
    "\n",
    "dbsc = DBSCAN(eps=0.5, min_samples=5).fit(x)\n",
    "\n",
    "for i in set(dbsc.labels_):\n",
    "    p = x[dbsc.labels_ == i,:]\n",
    "    plt.scatter(p[:,0], p[:,1], label=str(i))\n",
    "plt.legend()\n",
    "plt.show()"
   ]
  },
  {
   "cell_type": "code",
   "execution_count": null,
   "metadata": {},
   "outputs": [],
   "source": []
  }
 ],
 "metadata": {
  "kernelspec": {
   "display_name": "Python 3",
   "language": "python",
   "name": "python3"
  },
  "language_info": {
   "codemirror_mode": {
    "name": "ipython",
    "version": 3
   },
   "file_extension": ".py",
   "mimetype": "text/x-python",
   "name": "python",
   "nbconvert_exporter": "python",
   "pygments_lexer": "ipython3",
   "version": "3.6.9"
  }
 },
 "nbformat": 4,
 "nbformat_minor": 4
}
